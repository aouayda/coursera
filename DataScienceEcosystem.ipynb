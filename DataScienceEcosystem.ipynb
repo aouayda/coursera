{
 "cells": [
  {
   "cell_type": "markdown",
   "id": "1999037e",
   "metadata": {},
   "source": [
    "# Data Science Tools and Ecosystem #"
   ]
  },
  {
   "cell_type": "markdown",
   "id": "aca044ab",
   "metadata": {},
   "source": [
    "In this notebook, Data Science Tools and Ecosystem are summarized."
   ]
  },
  {
   "cell_type": "markdown",
   "id": "81a4795d",
   "metadata": {},
   "source": [
    "**Objectives:**\n",
    "- List of languages\n",
    "- List of libraries\n",
    "- List of Data Science development tools\n",
    "- Examples of arithmetic expressions in Python"
   ]
  },
  {
   "cell_type": "markdown",
   "id": "47aa8d63",
   "metadata": {},
   "source": [
    "Some of the popular languages that Data Scientists include but are not limited to:"
   ]
  },
  {
   "cell_type": "markdown",
   "id": "f7da3637",
   "metadata": {},
   "source": [
    "Some of the popular languages that Data Scientists include but are not limited to:\n",
    "1. Python\n",
    "2. R\n",
    "3. Javascript\n",
    "4. Scala\n",
    "5. Julia\n",
    "6. SQL"
   ]
  },
  {
   "cell_type": "markdown",
   "id": "c644f720",
   "metadata": {},
   "source": [
    "Some of the commonly used libraries used by Data Scientists include but are not limited to:\n",
    "\n",
    "1. TensorFlow\n",
    "2. Scikit-learn\n",
    "3. Keras\n",
    "4. Pandas\n",
    "5. NumPy\n",
    "6. Matplotlib"
   ]
  },
  {
   "cell_type": "markdown",
   "id": "f4d37afd",
   "metadata": {},
   "source": [
    "| Data Science Tools |\n",
    "| ------------------ |\n",
    "| Rstudio |\n",
    "| JupyterLab |\n",
    "| Spyder |\n",
    "| ApacheSpark |"
   ]
  },
  {
   "cell_type": "markdown",
   "id": "4848e07c",
   "metadata": {},
   "source": [
    "### Below are a few examples of evaluating arithmetic expressions in Python ###\n"
   ]
  },
  {
   "cell_type": "code",
   "execution_count": 1,
   "id": "9b00293a",
   "metadata": {},
   "outputs": [
    {
     "data": {
      "text/plain": [
       "17"
      ]
     },
     "execution_count": 1,
     "metadata": {},
     "output_type": "execute_result"
    }
   ],
   "source": [
    "#This a simple arithmetic expression to mutiply then add integers\n",
    "(3*4)+5"
   ]
  },
  {
   "cell_type": "code",
   "execution_count": 2,
   "id": "a63c15e3",
   "metadata": {},
   "outputs": [
    {
     "data": {
      "text/plain": [
       "3.3333333333333335"
      ]
     },
     "execution_count": 2,
     "metadata": {},
     "output_type": "execute_result"
    }
   ],
   "source": [
    "# This will convert 200 minutes to hours by diving by 60\n",
    "200/60"
   ]
  },
  {
   "cell_type": "markdown",
   "id": "66a6d187",
   "metadata": {},
   "source": [
    "## Author ##\n",
    "Abdul Sattar Ouayda"
   ]
  }
 ],
 "metadata": {
  "kernelspec": {
   "display_name": "Python 3 (ipykernel)",
   "language": "python",
   "name": "python3"
  },
  "language_info": {
   "codemirror_mode": {
    "name": "ipython",
    "version": 3
   },
   "file_extension": ".py",
   "mimetype": "text/x-python",
   "name": "python",
   "nbconvert_exporter": "python",
   "pygments_lexer": "ipython3",
   "version": "3.11.5"
  }
 },
 "nbformat": 4,
 "nbformat_minor": 5
}
